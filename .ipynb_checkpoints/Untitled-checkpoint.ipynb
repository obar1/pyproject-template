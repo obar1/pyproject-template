{
 "cells": [
  {
   "cell_type": "code",
   "execution_count": 12,
   "id": "0527221d",
   "metadata": {},
   "outputs": [],
   "source": [
    "import httpx"
   ]
  },
  {
   "cell_type": "code",
   "execution_count": 13,
   "id": "04ffefbf",
   "metadata": {},
   "outputs": [],
   "source": [
    "docs_url = 'http://localhost:8000/docs'\n",
    "r = httpx.get(docs_url)"
   ]
  },
  {
   "cell_type": "code",
   "execution_count": 14,
   "id": "92ecbb63",
   "metadata": {},
   "outputs": [
    {
     "data": {
      "text/plain": [
       "'text/html; charset=utf-8'"
      ]
     },
     "execution_count": 14,
     "metadata": {},
     "output_type": "execute_result"
    }
   ],
   "source": [
    "r.headers['content-type']"
   ]
  },
  {
   "cell_type": "code",
   "execution_count": 15,
   "id": "5c6f7cfe",
   "metadata": {},
   "outputs": [
    {
     "data": {
      "text/plain": [
       "'\\n    <!DOCTYPE html>\\n    <html>\\n    <head>\\n    <link type=\"text/css\" rel=\"stylesheet\" href=\"https://cdn.jsdelivr.net/npm/swagger-ui-dist@4/swagger-ui.css\">\\n    <link rel=\"shortcut icon\" href=\"https://fastapi.tiangolo.com/img/favicon.png\">\\n    <title>FastAPI - Swagger UI</title>\\n    </head>\\n    <body>\\n    <div id=\"swagger-ui\">\\n    </div>\\n    <script src=\"https://cdn.jsdelivr.net/npm/swagger-ui-dist@4/swagger-ui-bundle.js\"></script>\\n    <!-- `SwaggerUIBundle` is now available on the page -->\\n    <script>\\n    const ui = SwaggerUIBundle({\\n        url: \\'/openapi.json\\',\\n    \"dom_id\": \"#swagger-ui\",\\n\"layout\": \"BaseLayout\",\\n\"deepLinking\": true,\\n\"showExtensions\": true,\\n\"showCommonExtensions\": true,\\noauth2RedirectUrl: window.location.origin + \\'/docs/oauth2-redirect\\',\\n    presets: [\\n        SwaggerUIBundle.presets.apis,\\n        SwaggerUIBundle.SwaggerUIStandalonePreset\\n        ],\\n    })\\n    </script>\\n    </body>\\n    </html>\\n    '"
      ]
     },
     "execution_count": 15,
     "metadata": {},
     "output_type": "execute_result"
    }
   ],
   "source": [
    "r.text"
   ]
  }
 ],
 "metadata": {
  "kernelspec": {
   "display_name": "Python 3 (ipykernel)",
   "language": "python",
   "name": "python3"
  },
  "language_info": {
   "codemirror_mode": {
    "name": "ipython",
    "version": 3
   },
   "file_extension": ".py",
   "mimetype": "text/x-python",
   "name": "python",
   "nbconvert_exporter": "python",
   "pygments_lexer": "ipython3",
   "version": "3.10.6"
  }
 },
 "nbformat": 4,
 "nbformat_minor": 5
}
