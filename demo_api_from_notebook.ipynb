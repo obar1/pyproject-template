{
 "cells": [
  {
   "cell_type": "code",
   "execution_count": 5,
   "id": "0527221d",
   "metadata": {},
   "outputs": [],
   "source": [
    "import httpx"
   ]
  },
  {
   "cell_type": "code",
   "execution_count": 6,
   "id": "26d7d2db",
   "metadata": {},
   "outputs": [
    {
     "data": {
      "text/plain": [
       "0"
      ]
     },
     "execution_count": 6,
     "metadata": {},
     "output_type": "execute_result"
    }
   ],
   "source": [
    "# just for fun:) dot try this at home :)\n",
    "import os\n",
    "os.system(\"python run_api.py &\")"
   ]
  },
  {
   "cell_type": "code",
   "execution_count": 7,
   "id": "575ef1d4",
   "metadata": {},
   "outputs": [
    {
     "name": "stderr",
     "output_type": "stream",
     "text": [
      "INFO:     Started server process [31295]\n",
      "INFO:     Waiting for application startup.\n",
      "INFO:     Application startup complete.\n",
      "INFO:     Uvicorn running on http://0.0.0.0:8000 (Press CTRL+C to quit)\n"
     ]
    }
   ],
   "source": [
    "import time\n",
    "time.sleep(3) # Sleep for 3 seconds"
   ]
  },
  {
   "cell_type": "code",
   "execution_count": 8,
   "id": "04ffefbf",
   "metadata": {},
   "outputs": [
    {
     "name": "stdout",
     "output_type": "stream",
     "text": [
      "INFO:     127.0.0.1:43996 - \"GET /docs HTTP/1.1\" 200 OK\n"
     ]
    }
   ],
   "source": [
    "docs_url = 'http://localhost:8000/docs'\n",
    "r = httpx.get(docs_url)"
   ]
  },
  {
   "cell_type": "code",
   "execution_count": 9,
   "id": "92ecbb63",
   "metadata": {},
   "outputs": [
    {
     "data": {
      "text/plain": [
       "'text/html; charset=utf-8'"
      ]
     },
     "execution_count": 9,
     "metadata": {},
     "output_type": "execute_result"
    }
   ],
   "source": [
    "r.headers['content-type']"
   ]
  },
  {
   "cell_type": "code",
   "execution_count": 10,
   "id": "5c6f7cfe",
   "metadata": {},
   "outputs": [
    {
     "data": {
      "text/plain": [
       "'\\n    <!DOCTYPE html>\\n    <html>\\n    <head>\\n    <link type=\"text/css\" rel=\"stylesheet\" href=\"https://cdn.jsdelivr.net/npm/swagger-ui-dist@4/swagger-ui.css\">\\n    <link rel=\"shortcut icon\" href=\"https://fastapi.tiangolo.com/img/favicon.png\">\\n    <title>FastAPI - Swagger UI</title>\\n    </head>\\n    <body>\\n    <div id=\"swagger-ui\">\\n    </div>\\n    <script src=\"https://cdn.jsdelivr.net/npm/swagger-ui-dist@4/swagger-ui-bundle.js\"></script>\\n    <!-- `SwaggerUIBundle` is now available on the page -->\\n    <script>\\n    const ui = SwaggerUIBundle({\\n        url: \\'/openapi.json\\',\\n    \"dom_id\": \"#swagger-ui\",\\n\"layout\": \"BaseLayout\",\\n\"deepLinking\": true,\\n\"showExtensions\": true,\\n\"showCommonExtensions\": true,\\noauth2RedirectUrl: window.location.origin + \\'/docs/oauth2-redirect\\',\\n    presets: [\\n        SwaggerUIBundle.presets.apis,\\n        SwaggerUIBundle.SwaggerUIStandalonePreset\\n        ],\\n    })\\n    </script>\\n    </body>\\n    </html>\\n    '"
      ]
     },
     "execution_count": 10,
     "metadata": {},
     "output_type": "execute_result"
    }
   ],
   "source": [
    "r.text"
   ]
  }
 ],
 "metadata": {
  "kernelspec": {
   "display_name": "Python 3 (ipykernel)",
   "language": "python",
   "name": "python3"
  },
  "language_info": {
   "codemirror_mode": {
    "name": "ipython",
    "version": 3
   },
   "file_extension": ".py",
   "mimetype": "text/x-python",
   "name": "python",
   "nbconvert_exporter": "python",
   "pygments_lexer": "ipython3",
   "version": "3.10.6"
  },
  "vscode": {
   "interpreter": {
    "hash": "3f06778e4e57b6104bd7871875d14c1d7dd92b05a8d25e1ba6930a1478a0b723"
   }
  }
 },
 "nbformat": 4,
 "nbformat_minor": 5
}
